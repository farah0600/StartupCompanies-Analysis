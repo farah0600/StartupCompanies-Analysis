{
 "cells": [
  {
   "cell_type": "markdown",
   "id": "28c32842",
   "metadata": {
    "scrolled": true
   },
   "source": [
    "# Companies data set"
   ]
  },
  {
   "cell_type": "code",
   "execution_count": 1,
   "id": "4c953e5c",
   "metadata": {},
   "outputs": [
    {
     "data": {
      "text/html": [
       "<div>\n",
       "<style scoped>\n",
       "    .dataframe tbody tr th:only-of-type {\n",
       "        vertical-align: middle;\n",
       "    }\n",
       "\n",
       "    .dataframe tbody tr th {\n",
       "        vertical-align: top;\n",
       "    }\n",
       "\n",
       "    .dataframe thead th {\n",
       "        text-align: right;\n",
       "    }\n",
       "</style>\n",
       "<table border=\"1\" class=\"dataframe\">\n",
       "  <thead>\n",
       "    <tr style=\"text-align: right;\">\n",
       "      <th></th>\n",
       "      <th>permalink</th>\n",
       "      <th>name</th>\n",
       "      <th>homepage_url</th>\n",
       "      <th>category_list</th>\n",
       "      <th>funding_total_usd</th>\n",
       "      <th>status</th>\n",
       "      <th>country_code</th>\n",
       "      <th>state_code</th>\n",
       "      <th>region</th>\n",
       "      <th>city</th>\n",
       "      <th>funding_rounds</th>\n",
       "      <th>founded_at</th>\n",
       "      <th>first_funding_at</th>\n",
       "      <th>last_funding_at</th>\n",
       "    </tr>\n",
       "  </thead>\n",
       "  <tbody>\n",
       "    <tr>\n",
       "      <th>0</th>\n",
       "      <td>/organization/-fame</td>\n",
       "      <td>#fame</td>\n",
       "      <td>http://livfame.com</td>\n",
       "      <td>Media</td>\n",
       "      <td>10000000</td>\n",
       "      <td>operating</td>\n",
       "      <td>IND</td>\n",
       "      <td>16</td>\n",
       "      <td>Mumbai</td>\n",
       "      <td>Mumbai</td>\n",
       "      <td>1</td>\n",
       "      <td>NaN</td>\n",
       "      <td>2015-01-05</td>\n",
       "      <td>2015-01-05</td>\n",
       "    </tr>\n",
       "    <tr>\n",
       "      <th>1</th>\n",
       "      <td>/organization/-qounter</td>\n",
       "      <td>:Qounter</td>\n",
       "      <td>http://www.qounter.com</td>\n",
       "      <td>Application Platforms|Real Time|Social Network...</td>\n",
       "      <td>700000</td>\n",
       "      <td>operating</td>\n",
       "      <td>USA</td>\n",
       "      <td>DE</td>\n",
       "      <td>DE - Other</td>\n",
       "      <td>Delaware City</td>\n",
       "      <td>2</td>\n",
       "      <td>2014-09-04</td>\n",
       "      <td>2014-03-01</td>\n",
       "      <td>2014-10-14</td>\n",
       "    </tr>\n",
       "    <tr>\n",
       "      <th>2</th>\n",
       "      <td>/organization/-the-one-of-them-inc-</td>\n",
       "      <td>(THE) ONE of THEM,Inc.</td>\n",
       "      <td>http://oneofthem.jp</td>\n",
       "      <td>Apps|Games|Mobile</td>\n",
       "      <td>3406878</td>\n",
       "      <td>operating</td>\n",
       "      <td>NaN</td>\n",
       "      <td>NaN</td>\n",
       "      <td>NaN</td>\n",
       "      <td>NaN</td>\n",
       "      <td>1</td>\n",
       "      <td>NaN</td>\n",
       "      <td>2014-01-30</td>\n",
       "      <td>2014-01-30</td>\n",
       "    </tr>\n",
       "    <tr>\n",
       "      <th>3</th>\n",
       "      <td>/organization/0-6-com</td>\n",
       "      <td>0-6.com</td>\n",
       "      <td>http://www.0-6.com</td>\n",
       "      <td>Curated Web</td>\n",
       "      <td>2000000</td>\n",
       "      <td>operating</td>\n",
       "      <td>CHN</td>\n",
       "      <td>22</td>\n",
       "      <td>Beijing</td>\n",
       "      <td>Beijing</td>\n",
       "      <td>1</td>\n",
       "      <td>2007-01-01</td>\n",
       "      <td>2008-03-19</td>\n",
       "      <td>2008-03-19</td>\n",
       "    </tr>\n",
       "    <tr>\n",
       "      <th>4</th>\n",
       "      <td>/organization/004-technologies</td>\n",
       "      <td>004 Technologies</td>\n",
       "      <td>http://004gmbh.de/en/004-interact</td>\n",
       "      <td>Software</td>\n",
       "      <td>-</td>\n",
       "      <td>operating</td>\n",
       "      <td>USA</td>\n",
       "      <td>IL</td>\n",
       "      <td>Springfield, Illinois</td>\n",
       "      <td>Champaign</td>\n",
       "      <td>1</td>\n",
       "      <td>2010-01-01</td>\n",
       "      <td>2014-07-24</td>\n",
       "      <td>2014-07-24</td>\n",
       "    </tr>\n",
       "  </tbody>\n",
       "</table>\n",
       "</div>"
      ],
      "text/plain": [
       "                             permalink                    name  \\\n",
       "0                  /organization/-fame                   #fame   \n",
       "1               /organization/-qounter                :Qounter   \n",
       "2  /organization/-the-one-of-them-inc-  (THE) ONE of THEM,Inc.   \n",
       "3                /organization/0-6-com                 0-6.com   \n",
       "4       /organization/004-technologies        004 Technologies   \n",
       "\n",
       "                        homepage_url  \\\n",
       "0                 http://livfame.com   \n",
       "1             http://www.qounter.com   \n",
       "2                http://oneofthem.jp   \n",
       "3                 http://www.0-6.com   \n",
       "4  http://004gmbh.de/en/004-interact   \n",
       "\n",
       "                                       category_list funding_total_usd  \\\n",
       "0                                              Media          10000000   \n",
       "1  Application Platforms|Real Time|Social Network...            700000   \n",
       "2                                  Apps|Games|Mobile           3406878   \n",
       "3                                        Curated Web           2000000   \n",
       "4                                           Software                 -   \n",
       "\n",
       "      status country_code state_code                 region           city  \\\n",
       "0  operating          IND         16                 Mumbai         Mumbai   \n",
       "1  operating          USA         DE             DE - Other  Delaware City   \n",
       "2  operating          NaN        NaN                    NaN            NaN   \n",
       "3  operating          CHN         22                Beijing        Beijing   \n",
       "4  operating          USA         IL  Springfield, Illinois      Champaign   \n",
       "\n",
       "   funding_rounds  founded_at first_funding_at last_funding_at  \n",
       "0               1         NaN       2015-01-05      2015-01-05  \n",
       "1               2  2014-09-04       2014-03-01      2014-10-14  \n",
       "2               1         NaN       2014-01-30      2014-01-30  \n",
       "3               1  2007-01-01       2008-03-19      2008-03-19  \n",
       "4               1  2010-01-01       2014-07-24      2014-07-24  "
      ]
     },
     "execution_count": 1,
     "metadata": {},
     "output_type": "execute_result"
    }
   ],
   "source": [
    "import pandas as pd\n",
    "df=pd.read_csv('companies.csv')\n",
    "df.head()\n"
   ]
  },
  {
   "cell_type": "code",
   "execution_count": 2,
   "id": "d4e8acaf",
   "metadata": {},
   "outputs": [
    {
     "data": {
      "text/html": [
       "<div>\n",
       "<style scoped>\n",
       "    .dataframe tbody tr th:only-of-type {\n",
       "        vertical-align: middle;\n",
       "    }\n",
       "\n",
       "    .dataframe tbody tr th {\n",
       "        vertical-align: top;\n",
       "    }\n",
       "\n",
       "    .dataframe thead th {\n",
       "        text-align: right;\n",
       "    }\n",
       "</style>\n",
       "<table border=\"1\" class=\"dataframe\">\n",
       "  <thead>\n",
       "    <tr style=\"text-align: right;\">\n",
       "      <th></th>\n",
       "      <th>permalink</th>\n",
       "      <th>name</th>\n",
       "      <th>homepage_url</th>\n",
       "      <th>category_list</th>\n",
       "      <th>funding_total_usd</th>\n",
       "      <th>status</th>\n",
       "      <th>country_code</th>\n",
       "      <th>city</th>\n",
       "      <th>funding_rounds</th>\n",
       "      <th>founded_at</th>\n",
       "      <th>first_funding_at</th>\n",
       "      <th>last_funding_at</th>\n",
       "    </tr>\n",
       "  </thead>\n",
       "  <tbody>\n",
       "    <tr>\n",
       "      <th>0</th>\n",
       "      <td>/organization/-fame</td>\n",
       "      <td>#fame</td>\n",
       "      <td>http://livfame.com</td>\n",
       "      <td>Media</td>\n",
       "      <td>10000000</td>\n",
       "      <td>operating</td>\n",
       "      <td>IND</td>\n",
       "      <td>Mumbai</td>\n",
       "      <td>1</td>\n",
       "      <td>NaN</td>\n",
       "      <td>2015-01-05</td>\n",
       "      <td>2015-01-05</td>\n",
       "    </tr>\n",
       "    <tr>\n",
       "      <th>1</th>\n",
       "      <td>/organization/-qounter</td>\n",
       "      <td>:Qounter</td>\n",
       "      <td>http://www.qounter.com</td>\n",
       "      <td>Application Platforms|Real Time|Social Network...</td>\n",
       "      <td>700000</td>\n",
       "      <td>operating</td>\n",
       "      <td>USA</td>\n",
       "      <td>Delaware City</td>\n",
       "      <td>2</td>\n",
       "      <td>2014-09-04</td>\n",
       "      <td>2014-03-01</td>\n",
       "      <td>2014-10-14</td>\n",
       "    </tr>\n",
       "    <tr>\n",
       "      <th>2</th>\n",
       "      <td>/organization/-the-one-of-them-inc-</td>\n",
       "      <td>(THE) ONE of THEM,Inc.</td>\n",
       "      <td>http://oneofthem.jp</td>\n",
       "      <td>Apps|Games|Mobile</td>\n",
       "      <td>3406878</td>\n",
       "      <td>operating</td>\n",
       "      <td>NaN</td>\n",
       "      <td>NaN</td>\n",
       "      <td>1</td>\n",
       "      <td>NaN</td>\n",
       "      <td>2014-01-30</td>\n",
       "      <td>2014-01-30</td>\n",
       "    </tr>\n",
       "    <tr>\n",
       "      <th>3</th>\n",
       "      <td>/organization/0-6-com</td>\n",
       "      <td>0-6.com</td>\n",
       "      <td>http://www.0-6.com</td>\n",
       "      <td>Curated Web</td>\n",
       "      <td>2000000</td>\n",
       "      <td>operating</td>\n",
       "      <td>CHN</td>\n",
       "      <td>Beijing</td>\n",
       "      <td>1</td>\n",
       "      <td>2007-01-01</td>\n",
       "      <td>2008-03-19</td>\n",
       "      <td>2008-03-19</td>\n",
       "    </tr>\n",
       "    <tr>\n",
       "      <th>4</th>\n",
       "      <td>/organization/004-technologies</td>\n",
       "      <td>004 Technologies</td>\n",
       "      <td>http://004gmbh.de/en/004-interact</td>\n",
       "      <td>Software</td>\n",
       "      <td>-</td>\n",
       "      <td>operating</td>\n",
       "      <td>USA</td>\n",
       "      <td>Champaign</td>\n",
       "      <td>1</td>\n",
       "      <td>2010-01-01</td>\n",
       "      <td>2014-07-24</td>\n",
       "      <td>2014-07-24</td>\n",
       "    </tr>\n",
       "  </tbody>\n",
       "</table>\n",
       "</div>"
      ],
      "text/plain": [
       "                             permalink                    name  \\\n",
       "0                  /organization/-fame                   #fame   \n",
       "1               /organization/-qounter                :Qounter   \n",
       "2  /organization/-the-one-of-them-inc-  (THE) ONE of THEM,Inc.   \n",
       "3                /organization/0-6-com                 0-6.com   \n",
       "4       /organization/004-technologies        004 Technologies   \n",
       "\n",
       "                        homepage_url  \\\n",
       "0                 http://livfame.com   \n",
       "1             http://www.qounter.com   \n",
       "2                http://oneofthem.jp   \n",
       "3                 http://www.0-6.com   \n",
       "4  http://004gmbh.de/en/004-interact   \n",
       "\n",
       "                                       category_list funding_total_usd  \\\n",
       "0                                              Media          10000000   \n",
       "1  Application Platforms|Real Time|Social Network...            700000   \n",
       "2                                  Apps|Games|Mobile           3406878   \n",
       "3                                        Curated Web           2000000   \n",
       "4                                           Software                 -   \n",
       "\n",
       "      status country_code           city  funding_rounds  founded_at  \\\n",
       "0  operating          IND         Mumbai               1         NaN   \n",
       "1  operating          USA  Delaware City               2  2014-09-04   \n",
       "2  operating          NaN            NaN               1         NaN   \n",
       "3  operating          CHN        Beijing               1  2007-01-01   \n",
       "4  operating          USA      Champaign               1  2010-01-01   \n",
       "\n",
       "  first_funding_at last_funding_at  \n",
       "0       2015-01-05      2015-01-05  \n",
       "1       2014-03-01      2014-10-14  \n",
       "2       2014-01-30      2014-01-30  \n",
       "3       2008-03-19      2008-03-19  \n",
       "4       2014-07-24      2014-07-24  "
      ]
     },
     "execution_count": 2,
     "metadata": {},
     "output_type": "execute_result"
    }
   ],
   "source": [
    "df.drop(['state_code', 'region'],axis=1,inplace=True)\n",
    "df['first_funding_at']=df['first_funding_at'].fillna(\"not available\")\n",
    "df.head()"
   ]
  },
  {
   "cell_type": "code",
   "execution_count": null,
   "id": "15bcaa83",
   "metadata": {
    "scrolled": true
   },
   "outputs": [],
   "source": []
  },
  {
   "cell_type": "code",
   "execution_count": 3,
   "id": "d6c201d4",
   "metadata": {},
   "outputs": [
    {
     "data": {
      "text/plain": [
       "Text(0.5, 1.0, 'status difference')"
      ]
     },
     "execution_count": 3,
     "metadata": {},
     "output_type": "execute_result"
    },
    {
     "data": {
      "image/png": "[encoded data removed]",
      "text/plain": [
       "<Figure size 432x288 with 1 Axes>"
      ]
     },
     "metadata": {
      "needs_background": "light"
     },
     "output_type": "display_data"
    }
   ],
   "source": [
    "import matplotlib.pyplot as plt\n",
    "df.status.hist()\n",
    "plt.title('status difference')"
   ]
  },
  {
   "cell_type": "markdown",
   "id": "77ee9013",
   "metadata": {},
   "source": [
    "As the histogram above shows, we have more companies operating as compared to acquired ones which would imply that they received far more funding and produced more than those which were acquired."
   ]
  },
  {
   "cell_type": "markdown",
   "id": "1d4d0a15",
   "metadata": {},
   "source": [
    "# IPO companies?"
   ]
  },
  {
   "cell_type": "markdown",
   "id": "b93c0afe",
   "metadata": {},
   "source": [
    "It's a situation in which one starts a business by soliciting capital from family, friends, and investors in exchange for a portion of the company. We go to an investor bank and inform them about the idea or product to raise money for this company. They will then introduce us to institutional investors / people who are interested in this idea or product, and they will sell some of the business's shares to assist in bringing the company to the public market. This helps raise a lot of money, sell shares at a reasonable price that suits the shareholder, raise more money through additional rounds of investment, and promote the brand because IPOs deliver a good credibility boost.\n",
    "The disadvantages include:\n",
    "When it comes to matters like openness, the SEC (Securities and Exchange Commission is the US federal agency in charge of regulating and managing financial markets) and exchanges have stringent criteria. As a result, public firms are required to reveal a great deal of business-related information, which may result in competitors obtaining access to material that is the company's trade secret.\n",
    "Less control as shareholders will now affect decision making.\n"
   ]
  },
  {
   "cell_type": "markdown",
   "id": "4f0e4611",
   "metadata": {},
   "source": [
    "We'll now separate companies in to 3 status categories; operating, acquired, and ipo. Then we'll compare the funding rounds based on these statuses."
   ]
  },
  {
   "cell_type": "code",
   "execution_count": 4,
   "id": "e19f5a68",
   "metadata": {},
   "outputs": [],
   "source": [
    "operating=df.loc[df['status']=='operating']\n",
    "acquired=df.loc[df['status']=='acquired']\n",
    "ipo=df.loc[df['status']=='ipo']"
   ]
  },
  {
   "cell_type": "markdown",
   "id": "47ed9a7d",
   "metadata": {},
   "source": [
    "# Operating companies"
   ]
  },
  {
   "cell_type": "code",
   "execution_count": 5,
   "id": "f57b85d8",
   "metadata": {},
   "outputs": [
    {
     "data": {
      "image/png": "[encoded data removed]",
      "text/plain": [
       "<Figure size 432x288 with 1 Axes>"
      ]
     },
     "metadata": {
      "needs_background": "light"
     },
     "output_type": "display_data"
    }
   ],
   "source": [
    "\n",
    "import matplotlib.pyplot as plt\n",
    "operating.funding_rounds.value_counts().plot(kind=\"bar\",alpha=0.5)\n",
    "plt.title('Funding rounds')\n",
    "plt.xlabel('funding')\n",
    "plt.ylabel('funding frequency') \n",
    "plt.show()"
   ]
  },
  {
   "cell_type": "markdown",
   "id": "8c6a62a1",
   "metadata": {},
   "source": [
    "The above curve can be matched to the values below and we can deduce that operating companies get more one time funding rounds that two."
   ]
  },
  {
   "cell_type": "code",
   "execution_count": 6,
   "id": "feb228cc",
   "metadata": {},
   "outputs": [
    {
     "data": {
      "text/plain": [
       "1     34367\n",
       "2      9871\n",
       "3      4366\n",
       "4      2066\n",
       "5      1119\n",
       "6       554\n",
       "7       312\n",
       "8       150\n",
       "9        91\n",
       "10       55\n",
       "11       31\n",
       "12       24\n",
       "13       11\n",
       "16        5\n",
       "14        4\n",
       "15        3\n",
       "17        2\n",
       "18        2\n",
       "19        1\n",
       "Name: funding_rounds, dtype: int64"
      ]
     },
     "execution_count": 6,
     "metadata": {},
     "output_type": "execute_result"
    }
   ],
   "source": [
    "operating['funding_rounds'].value_counts()"
   ]
  },
  {
   "cell_type": "markdown",
   "id": "c424b1c2",
   "metadata": {},
   "source": [
    "Now we will see how this differs from acquired companies."
   ]
  },
  {
   "cell_type": "markdown",
   "id": "90dd617e",
   "metadata": {},
   "source": [
    "# Acquired companies "
   ]
  },
  {
   "cell_type": "code",
   "execution_count": 7,
   "id": "c3d086c1",
   "metadata": {
    "scrolled": false
   },
   "outputs": [
    {
     "data": {
      "image/png": "[encoded data removed]",
      "text/plain": [
       "<Figure size 432x288 with 1 Axes>"
      ]
     },
     "metadata": {
      "needs_background": "light"
     },
     "output_type": "display_data"
    }
   ],
   "source": [
    "#acquired companies\n",
    "\n",
    "plt.title('funding rounds for aqcuired companies')\n",
    "acquired.funding_rounds.value_counts().plot(kind=\"bar\",alpha=0.5)\n",
    "plt.title('Funding rounds')\n",
    "plt.xlabel('funding')\n",
    "plt.ylabel('funding frequency') \n",
    "plt.show()"
   ]
  },
  {
   "cell_type": "markdown",
   "id": "5283a7c1",
   "metadata": {},
   "source": [
    "This can be confirmed and further understood with the values below."
   ]
  },
  {
   "cell_type": "code",
   "execution_count": 8,
   "id": "60faefca",
   "metadata": {
    "scrolled": false
   },
   "outputs": [
    {
     "data": {
      "text/plain": [
       "1     2664\n",
       "2     1287\n",
       "3      772\n",
       "4      411\n",
       "5      194\n",
       "6      115\n",
       "7       54\n",
       "8       15\n",
       "10      13\n",
       "9       11\n",
       "11       9\n",
       "15       1\n",
       "12       1\n",
       "18       1\n",
       "17       1\n",
       "Name: funding_rounds, dtype: int64"
      ]
     },
     "execution_count": 8,
     "metadata": {},
     "output_type": "execute_result"
    }
   ],
   "source": [
    "acquired['funding_rounds'].value_counts()"
   ]
  },
  {
   "cell_type": "markdown",
   "id": "9c8e7f8b",
   "metadata": {},
   "source": [
    "As we can see, both operating and acquired companies get more one time funding rounds than 2 with operating companies having by far the largest fundings. For IPO companies is illustrated below."
   ]
  },
  {
   "cell_type": "markdown",
   "id": "dc48e732",
   "metadata": {},
   "source": [
    "# IPO companies"
   ]
  },
  {
   "cell_type": "code",
   "execution_count": 9,
   "id": "4d9fda51",
   "metadata": {},
   "outputs": [
    {
     "data": {
      "image/png": "[encoded data removed]",
      "text/plain": [
       "<Figure size 432x288 with 1 Axes>"
      ]
     },
     "metadata": {
      "needs_background": "light"
     },
     "output_type": "display_data"
    }
   ],
   "source": [
    "#ipo companies\n",
    "\n",
    "plt.title('funding rounds for IPO companies')\n",
    "ipo.funding_rounds.value_counts().plot(kind=\"bar\",alpha=0.5)\n",
    "plt.title('Funding rounds')\n",
    "plt.xlabel('funding')\n",
    "plt.ylabel('funding frequency') \n",
    "plt.show()"
   ]
  },
  {
   "cell_type": "code",
   "execution_count": 10,
   "id": "fb81d562",
   "metadata": {
    "scrolled": true
   },
   "outputs": [
    {
     "data": {
      "text/plain": [
       "1     646\n",
       "2     277\n",
       "3     192\n",
       "4     137\n",
       "5     100\n",
       "6      72\n",
       "7      39\n",
       "8      36\n",
       "9      18\n",
       "10     10\n",
       "11      9\n",
       "13      4\n",
       "12      3\n",
       "15      2\n",
       "16      1\n",
       "14      1\n",
       "Name: funding_rounds, dtype: int64"
      ]
     },
     "execution_count": 10,
     "metadata": {},
     "output_type": "execute_result"
    }
   ],
   "source": [
    "ipo['funding_rounds'].value_counts()"
   ]
  },
  {
   "cell_type": "markdown",
   "id": "9b23aed8",
   "metadata": {},
   "source": [
    "We can conclude that operating companies exceed in founding rounds but all have higher one time fundings."
   ]
  },
  {
   "cell_type": "markdown",
   "id": "990f64b4",
   "metadata": {},
   "source": [
    "# Investments data set part"
   ]
  },
  {
   "cell_type": "code",
   "execution_count": 11,
   "id": "361da12f",
   "metadata": {
    "scrolled": true
   },
   "outputs": [
    {
     "data": {
      "text/html": [
       "<div>\n",
       "<style scoped>\n",
       "    .dataframe tbody tr th:only-of-type {\n",
       "        vertical-align: middle;\n",
       "    }\n",
       "\n",
       "    .dataframe tbody tr th {\n",
       "        vertical-align: top;\n",
       "    }\n",
       "\n",
       "    .dataframe thead th {\n",
       "        text-align: right;\n",
       "    }\n",
       "</style>\n",
       "<table border=\"1\" class=\"dataframe\">\n",
       "  <thead>\n",
       "    <tr style=\"text-align: right;\">\n",
       "      <th></th>\n",
       "      <th>company_permalink</th>\n",
       "      <th>company_name</th>\n",
       "      <th>company_category_list</th>\n",
       "      <th>company_country_code</th>\n",
       "      <th>company_state_code</th>\n",
       "      <th>company_region</th>\n",
       "      <th>company_city</th>\n",
       "      <th>investor_permalink</th>\n",
       "      <th>investor_name</th>\n",
       "      <th>investor_country_code</th>\n",
       "      <th>investor_state_code</th>\n",
       "      <th>investor_region</th>\n",
       "      <th>investor_city</th>\n",
       "      <th>funding_round_permalink</th>\n",
       "      <th>funding_round_type</th>\n",
       "      <th>funding_round_code</th>\n",
       "      <th>funded_at</th>\n",
       "      <th>raised_amount_usd</th>\n",
       "    </tr>\n",
       "  </thead>\n",
       "  <tbody>\n",
       "    <tr>\n",
       "      <th>0</th>\n",
       "      <td>/organization/0-6-com</td>\n",
       "      <td>0-6.com</td>\n",
       "      <td>Curated Web</td>\n",
       "      <td>CHN</td>\n",
       "      <td>22</td>\n",
       "      <td>Beijing</td>\n",
       "      <td>Beijing</td>\n",
       "      <td>/organization/dt-capital-partners</td>\n",
       "      <td>DT Capital Partners</td>\n",
       "      <td>CHN</td>\n",
       "      <td>23</td>\n",
       "      <td>Shanghai</td>\n",
       "      <td>Shanghai</td>\n",
       "      <td>/funding-round/5727accaeaa57461bd22a9bdd945382d</td>\n",
       "      <td>venture</td>\n",
       "      <td>A</td>\n",
       "      <td>2008-03-19</td>\n",
       "      <td>2000000.0</td>\n",
       "    </tr>\n",
       "    <tr>\n",
       "      <th>1</th>\n",
       "      <td>/organization/004-technologies</td>\n",
       "      <td>004 Technologies</td>\n",
       "      <td>Software</td>\n",
       "      <td>USA</td>\n",
       "      <td>IL</td>\n",
       "      <td>Springfield, Illinois</td>\n",
       "      <td>Champaign</td>\n",
       "      <td>/organization/venturecapital-de</td>\n",
       "      <td>VCDE Venture Partners</td>\n",
       "      <td>DEU</td>\n",
       "      <td>5</td>\n",
       "      <td>Frankfurt</td>\n",
       "      <td>Frankfurt</td>\n",
       "      <td>/funding-round/1278dd4e6a37fa4b7d7e06c21b3c1830</td>\n",
       "      <td>venture</td>\n",
       "      <td>NaN</td>\n",
       "      <td>2014-07-24</td>\n",
       "      <td>NaN</td>\n",
       "    </tr>\n",
       "    <tr>\n",
       "      <th>2</th>\n",
       "      <td>/organization/01games-technology</td>\n",
       "      <td>01Games Technology</td>\n",
       "      <td>Games</td>\n",
       "      <td>HKG</td>\n",
       "      <td>NaN</td>\n",
       "      <td>Hong Kong</td>\n",
       "      <td>Hong Kong</td>\n",
       "      <td>/organization/cyberport-hong-kong</td>\n",
       "      <td>Cyberport Hong Kong</td>\n",
       "      <td>HKG</td>\n",
       "      <td>NaN</td>\n",
       "      <td>Hong Kong</td>\n",
       "      <td>Hong Kong</td>\n",
       "      <td>/funding-round/7d53696f2b4f607a2f2a8cbb83d01839</td>\n",
       "      <td>undisclosed</td>\n",
       "      <td>NaN</td>\n",
       "      <td>2014-07-01</td>\n",
       "      <td>41250.0</td>\n",
       "    </tr>\n",
       "    <tr>\n",
       "      <th>3</th>\n",
       "      <td>/organization/0xdata</td>\n",
       "      <td>H2O.ai</td>\n",
       "      <td>Analytics</td>\n",
       "      <td>USA</td>\n",
       "      <td>CA</td>\n",
       "      <td>SF Bay Area</td>\n",
       "      <td>Mountain View</td>\n",
       "      <td>/organization/capital-one</td>\n",
       "      <td>Capital One</td>\n",
       "      <td>USA</td>\n",
       "      <td>VA</td>\n",
       "      <td>Washington, D.C.</td>\n",
       "      <td>Mclean</td>\n",
       "      <td>/funding-round/3bb2ee4a2d89251a10aaa735b1180e44</td>\n",
       "      <td>venture</td>\n",
       "      <td>B</td>\n",
       "      <td>2015-11-09</td>\n",
       "      <td>20000000.0</td>\n",
       "    </tr>\n",
       "    <tr>\n",
       "      <th>4</th>\n",
       "      <td>/organization/0xdata</td>\n",
       "      <td>H2O.ai</td>\n",
       "      <td>Analytics</td>\n",
       "      <td>USA</td>\n",
       "      <td>CA</td>\n",
       "      <td>SF Bay Area</td>\n",
       "      <td>Mountain View</td>\n",
       "      <td>/organization/nexus-venture-partners</td>\n",
       "      <td>Nexus Venture Partners</td>\n",
       "      <td>USA</td>\n",
       "      <td>CA</td>\n",
       "      <td>SF Bay Area</td>\n",
       "      <td>Menlo Park</td>\n",
       "      <td>/funding-round/383a9bd2c04f7038bb543ccef5ba3eae</td>\n",
       "      <td>seed</td>\n",
       "      <td>NaN</td>\n",
       "      <td>2013-05-22</td>\n",
       "      <td>3000000.0</td>\n",
       "    </tr>\n",
       "  </tbody>\n",
       "</table>\n",
       "</div>"
      ],
      "text/plain": [
       "                  company_permalink        company_name company_category_list  \\\n",
       "0             /organization/0-6-com             0-6.com           Curated Web   \n",
       "1    /organization/004-technologies    004 Technologies              Software   \n",
       "2  /organization/01games-technology  01Games Technology                 Games   \n",
       "3              /organization/0xdata              H2O.ai             Analytics   \n",
       "4              /organization/0xdata              H2O.ai             Analytics   \n",
       "\n",
       "  company_country_code company_state_code         company_region  \\\n",
       "0                  CHN                 22                Beijing   \n",
       "1                  USA                 IL  Springfield, Illinois   \n",
       "2                  HKG                NaN              Hong Kong   \n",
       "3                  USA                 CA            SF Bay Area   \n",
       "4                  USA                 CA            SF Bay Area   \n",
       "\n",
       "    company_city                    investor_permalink  \\\n",
       "0        Beijing     /organization/dt-capital-partners   \n",
       "1      Champaign       /organization/venturecapital-de   \n",
       "2      Hong Kong     /organization/cyberport-hong-kong   \n",
       "3  Mountain View             /organization/capital-one   \n",
       "4  Mountain View  /organization/nexus-venture-partners   \n",
       "\n",
       "            investor_name investor_country_code investor_state_code  \\\n",
       "0     DT Capital Partners                   CHN                  23   \n",
       "1   VCDE Venture Partners                   DEU                   5   \n",
       "2     Cyberport Hong Kong                   HKG                 NaN   \n",
       "3             Capital One                   USA                  VA   \n",
       "4  Nexus Venture Partners                   USA                  CA   \n",
       "\n",
       "    investor_region investor_city  \\\n",
       "0          Shanghai      Shanghai   \n",
       "1         Frankfurt     Frankfurt   \n",
       "2         Hong Kong     Hong Kong   \n",
       "3  Washington, D.C.        Mclean   \n",
       "4       SF Bay Area    Menlo Park   \n",
       "\n",
       "                           funding_round_permalink funding_round_type  \\\n",
       "0  /funding-round/5727accaeaa57461bd22a9bdd945382d            venture   \n",
       "1  /funding-round/1278dd4e6a37fa4b7d7e06c21b3c1830            venture   \n",
       "2  /funding-round/7d53696f2b4f607a2f2a8cbb83d01839        undisclosed   \n",
       "3  /funding-round/3bb2ee4a2d89251a10aaa735b1180e44            venture   \n",
       "4  /funding-round/383a9bd2c04f7038bb543ccef5ba3eae               seed   \n",
       "\n",
       "  funding_round_code   funded_at  raised_amount_usd  \n",
       "0                  A  2008-03-19          2000000.0  \n",
       "1                NaN  2014-07-24                NaN  \n",
       "2                NaN  2014-07-01            41250.0  \n",
       "3                  B  2015-11-09         20000000.0  \n",
       "4                NaN  2013-05-22          3000000.0  "
      ]
     },
     "execution_count": 11,
     "metadata": {},
     "output_type": "execute_result"
    }
   ],
   "source": [
    "d=pd.read_csv('investments.csv')\n",
    "d.head()\n"
   ]
  },
  {
   "cell_type": "code",
   "execution_count": 12,
   "id": "e4524409",
   "metadata": {
    "scrolled": false
   },
   "outputs": [
    {
     "data": {
      "text/html": [
       "<div>\n",
       "<style scoped>\n",
       "    .dataframe tbody tr th:only-of-type {\n",
       "        vertical-align: middle;\n",
       "    }\n",
       "\n",
       "    .dataframe tbody tr th {\n",
       "        vertical-align: top;\n",
       "    }\n",
       "\n",
       "    .dataframe thead th {\n",
       "        text-align: right;\n",
       "    }\n",
       "</style>\n",
       "<table border=\"1\" class=\"dataframe\">\n",
       "  <thead>\n",
       "    <tr style=\"text-align: right;\">\n",
       "      <th></th>\n",
       "      <th>company_permalink</th>\n",
       "      <th>company_name</th>\n",
       "      <th>company_category_list</th>\n",
       "      <th>company_country_code</th>\n",
       "      <th>company_city</th>\n",
       "      <th>investor_permalink</th>\n",
       "      <th>investor_name</th>\n",
       "      <th>investor_country_code</th>\n",
       "      <th>investor_city</th>\n",
       "      <th>funding_round_permalink</th>\n",
       "      <th>funding_round_type</th>\n",
       "      <th>funding_round_code</th>\n",
       "      <th>funded_at</th>\n",
       "      <th>raised_amount_usd</th>\n",
       "    </tr>\n",
       "  </thead>\n",
       "  <tbody>\n",
       "    <tr>\n",
       "      <th>0</th>\n",
       "      <td>/organization/0-6-com</td>\n",
       "      <td>0-6.com</td>\n",
       "      <td>Curated Web</td>\n",
       "      <td>CHN</td>\n",
       "      <td>Beijing</td>\n",
       "      <td>/organization/dt-capital-partners</td>\n",
       "      <td>DT Capital Partners</td>\n",
       "      <td>CHN</td>\n",
       "      <td>Shanghai</td>\n",
       "      <td>/funding-round/5727accaeaa57461bd22a9bdd945382d</td>\n",
       "      <td>venture</td>\n",
       "      <td>A</td>\n",
       "      <td>2008-03-19</td>\n",
       "      <td>2000000.0</td>\n",
       "    </tr>\n",
       "    <tr>\n",
       "      <th>1</th>\n",
       "      <td>/organization/004-technologies</td>\n",
       "      <td>004 Technologies</td>\n",
       "      <td>Software</td>\n",
       "      <td>USA</td>\n",
       "      <td>Champaign</td>\n",
       "      <td>/organization/venturecapital-de</td>\n",
       "      <td>VCDE Venture Partners</td>\n",
       "      <td>DEU</td>\n",
       "      <td>Frankfurt</td>\n",
       "      <td>/funding-round/1278dd4e6a37fa4b7d7e06c21b3c1830</td>\n",
       "      <td>venture</td>\n",
       "      <td>not available</td>\n",
       "      <td>2014-07-24</td>\n",
       "      <td>not available</td>\n",
       "    </tr>\n",
       "    <tr>\n",
       "      <th>2</th>\n",
       "      <td>/organization/01games-technology</td>\n",
       "      <td>01Games Technology</td>\n",
       "      <td>Games</td>\n",
       "      <td>HKG</td>\n",
       "      <td>Hong Kong</td>\n",
       "      <td>/organization/cyberport-hong-kong</td>\n",
       "      <td>Cyberport Hong Kong</td>\n",
       "      <td>HKG</td>\n",
       "      <td>Hong Kong</td>\n",
       "      <td>/funding-round/7d53696f2b4f607a2f2a8cbb83d01839</td>\n",
       "      <td>undisclosed</td>\n",
       "      <td>not available</td>\n",
       "      <td>2014-07-01</td>\n",
       "      <td>41250.0</td>\n",
       "    </tr>\n",
       "    <tr>\n",
       "      <th>3</th>\n",
       "      <td>/organization/0xdata</td>\n",
       "      <td>H2O.ai</td>\n",
       "      <td>Analytics</td>\n",
       "      <td>USA</td>\n",
       "      <td>Mountain View</td>\n",
       "      <td>/organization/capital-one</td>\n",
       "      <td>Capital One</td>\n",
       "      <td>USA</td>\n",
       "      <td>Mclean</td>\n",
       "      <td>/funding-round/3bb2ee4a2d89251a10aaa735b1180e44</td>\n",
       "      <td>venture</td>\n",
       "      <td>B</td>\n",
       "      <td>2015-11-09</td>\n",
       "      <td>20000000.0</td>\n",
       "    </tr>\n",
       "    <tr>\n",
       "      <th>4</th>\n",
       "      <td>/organization/0xdata</td>\n",
       "      <td>H2O.ai</td>\n",
       "      <td>Analytics</td>\n",
       "      <td>USA</td>\n",
       "      <td>Mountain View</td>\n",
       "      <td>/organization/nexus-venture-partners</td>\n",
       "      <td>Nexus Venture Partners</td>\n",
       "      <td>USA</td>\n",
       "      <td>Menlo Park</td>\n",
       "      <td>/funding-round/383a9bd2c04f7038bb543ccef5ba3eae</td>\n",
       "      <td>seed</td>\n",
       "      <td>not available</td>\n",
       "      <td>2013-05-22</td>\n",
       "      <td>3000000.0</td>\n",
       "    </tr>\n",
       "  </tbody>\n",
       "</table>\n",
       "</div>"
      ],
      "text/plain": [
       "                  company_permalink        company_name company_category_list  \\\n",
       "0             /organization/0-6-com             0-6.com           Curated Web   \n",
       "1    /organization/004-technologies    004 Technologies              Software   \n",
       "2  /organization/01games-technology  01Games Technology                 Games   \n",
       "3              /organization/0xdata              H2O.ai             Analytics   \n",
       "4              /organization/0xdata              H2O.ai             Analytics   \n",
       "\n",
       "  company_country_code   company_city                    investor_permalink  \\\n",
       "0                  CHN        Beijing     /organization/dt-capital-partners   \n",
       "1                  USA      Champaign       /organization/venturecapital-de   \n",
       "2                  HKG      Hong Kong     /organization/cyberport-hong-kong   \n",
       "3                  USA  Mountain View             /organization/capital-one   \n",
       "4                  USA  Mountain View  /organization/nexus-venture-partners   \n",
       "\n",
       "            investor_name investor_country_code investor_city  \\\n",
       "0     DT Capital Partners                   CHN      Shanghai   \n",
       "1   VCDE Venture Partners                   DEU     Frankfurt   \n",
       "2     Cyberport Hong Kong                   HKG     Hong Kong   \n",
       "3             Capital One                   USA        Mclean   \n",
       "4  Nexus Venture Partners                   USA    Menlo Park   \n",
       "\n",
       "                           funding_round_permalink funding_round_type  \\\n",
       "0  /funding-round/5727accaeaa57461bd22a9bdd945382d            venture   \n",
       "1  /funding-round/1278dd4e6a37fa4b7d7e06c21b3c1830            venture   \n",
       "2  /funding-round/7d53696f2b4f607a2f2a8cbb83d01839        undisclosed   \n",
       "3  /funding-round/3bb2ee4a2d89251a10aaa735b1180e44            venture   \n",
       "4  /funding-round/383a9bd2c04f7038bb543ccef5ba3eae               seed   \n",
       "\n",
       "  funding_round_code   funded_at raised_amount_usd  \n",
       "0                  A  2008-03-19         2000000.0  \n",
       "1      not available  2014-07-24     not available  \n",
       "2      not available  2014-07-01           41250.0  \n",
       "3                  B  2015-11-09        20000000.0  \n",
       "4      not available  2013-05-22         3000000.0  "
      ]
     },
     "execution_count": 12,
     "metadata": {},
     "output_type": "execute_result"
    }
   ],
   "source": [
    "d.drop([ 'company_state_code','company_region','investor_state_code','investor_region'],axis=1,inplace=True)\n",
    "d['raised_amount_usd']=d['raised_amount_usd'].fillna(\"not available\")\n",
    "d['funding_round_code']=d['funding_round_code'].fillna(\"not available\")\n",
    "d['company_country_code']=d['company_country_code'].fillna(\"not provided\")\n",
    "d['investor_country_code']=d['investor_country_code'].fillna(\"not provided\")\n",
    "d.head()"
   ]
  },
  {
   "cell_type": "code",
   "execution_count": 13,
   "id": "44d4ebe5",
   "metadata": {
    "scrolled": false
   },
   "outputs": [
    {
     "data": {
      "text/html": [
       "<div>\n",
       "<style scoped>\n",
       "    .dataframe tbody tr th:only-of-type {\n",
       "        vertical-align: middle;\n",
       "    }\n",
       "\n",
       "    .dataframe tbody tr th {\n",
       "        vertical-align: top;\n",
       "    }\n",
       "\n",
       "    .dataframe thead th {\n",
       "        text-align: right;\n",
       "    }\n",
       "</style>\n",
       "<table border=\"1\" class=\"dataframe\">\n",
       "  <thead>\n",
       "    <tr style=\"text-align: right;\">\n",
       "      <th></th>\n",
       "      <th>company_permalink</th>\n",
       "      <th>company_name</th>\n",
       "      <th>company_category_list</th>\n",
       "      <th>company_country_code</th>\n",
       "      <th>company_city</th>\n",
       "      <th>investor_permalink</th>\n",
       "      <th>investor_name</th>\n",
       "      <th>investor_country_code</th>\n",
       "      <th>investor_city</th>\n",
       "      <th>funding_round_permalink</th>\n",
       "      <th>funding_round_type</th>\n",
       "      <th>funding_round_code</th>\n",
       "      <th>funded_at</th>\n",
       "      <th>raised_amount_usd</th>\n",
       "    </tr>\n",
       "  </thead>\n",
       "  <tbody>\n",
       "    <tr>\n",
       "      <th>0</th>\n",
       "      <td>/organization/0-6-com</td>\n",
       "      <td>0-6.com</td>\n",
       "      <td>Curated Web</td>\n",
       "      <td>CHN</td>\n",
       "      <td>Beijing</td>\n",
       "      <td>/organization/dt-capital-partners</td>\n",
       "      <td>DT Capital Partners</td>\n",
       "      <td>CHN</td>\n",
       "      <td>Shanghai</td>\n",
       "      <td>/funding-round/5727accaeaa57461bd22a9bdd945382d</td>\n",
       "      <td>venture</td>\n",
       "      <td>A</td>\n",
       "      <td>2008-03-19</td>\n",
       "      <td>2000000.0</td>\n",
       "    </tr>\n",
       "    <tr>\n",
       "      <th>1</th>\n",
       "      <td>/organization/004-technologies</td>\n",
       "      <td>004 Technologies</td>\n",
       "      <td>Software</td>\n",
       "      <td>USA</td>\n",
       "      <td>Champaign</td>\n",
       "      <td>/organization/venturecapital-de</td>\n",
       "      <td>VCDE Venture Partners</td>\n",
       "      <td>DEU</td>\n",
       "      <td>Frankfurt</td>\n",
       "      <td>/funding-round/1278dd4e6a37fa4b7d7e06c21b3c1830</td>\n",
       "      <td>venture</td>\n",
       "      <td>not available</td>\n",
       "      <td>2014-07-24</td>\n",
       "      <td>not available</td>\n",
       "    </tr>\n",
       "    <tr>\n",
       "      <th>2</th>\n",
       "      <td>/organization/01games-technology</td>\n",
       "      <td>01Games Technology</td>\n",
       "      <td>Games</td>\n",
       "      <td>HKG</td>\n",
       "      <td>Hong Kong</td>\n",
       "      <td>/organization/cyberport-hong-kong</td>\n",
       "      <td>Cyberport Hong Kong</td>\n",
       "      <td>HKG</td>\n",
       "      <td>Hong Kong</td>\n",
       "      <td>/funding-round/7d53696f2b4f607a2f2a8cbb83d01839</td>\n",
       "      <td>undisclosed</td>\n",
       "      <td>not available</td>\n",
       "      <td>2014-07-01</td>\n",
       "      <td>41250.0</td>\n",
       "    </tr>\n",
       "    <tr>\n",
       "      <th>3</th>\n",
       "      <td>/organization/0xdata</td>\n",
       "      <td>H2O.ai</td>\n",
       "      <td>Analytics</td>\n",
       "      <td>USA</td>\n",
       "      <td>Mountain View</td>\n",
       "      <td>/organization/capital-one</td>\n",
       "      <td>Capital One</td>\n",
       "      <td>USA</td>\n",
       "      <td>Mclean</td>\n",
       "      <td>/funding-round/3bb2ee4a2d89251a10aaa735b1180e44</td>\n",
       "      <td>venture</td>\n",
       "      <td>B</td>\n",
       "      <td>2015-11-09</td>\n",
       "      <td>20000000.0</td>\n",
       "    </tr>\n",
       "    <tr>\n",
       "      <th>4</th>\n",
       "      <td>/organization/0xdata</td>\n",
       "      <td>H2O.ai</td>\n",
       "      <td>Analytics</td>\n",
       "      <td>USA</td>\n",
       "      <td>Mountain View</td>\n",
       "      <td>/organization/nexus-venture-partners</td>\n",
       "      <td>Nexus Venture Partners</td>\n",
       "      <td>USA</td>\n",
       "      <td>Menlo Park</td>\n",
       "      <td>/funding-round/383a9bd2c04f7038bb543ccef5ba3eae</td>\n",
       "      <td>seed</td>\n",
       "      <td>not available</td>\n",
       "      <td>2013-05-22</td>\n",
       "      <td>3000000.0</td>\n",
       "    </tr>\n",
       "  </tbody>\n",
       "</table>\n",
       "</div>"
      ],
      "text/plain": [
       "                  company_permalink        company_name company_category_list  \\\n",
       "0             /organization/0-6-com             0-6.com           Curated Web   \n",
       "1    /organization/004-technologies    004 Technologies              Software   \n",
       "2  /organization/01games-technology  01Games Technology                 Games   \n",
       "3              /organization/0xdata              H2O.ai             Analytics   \n",
       "4              /organization/0xdata              H2O.ai             Analytics   \n",
       "\n",
       "  company_country_code   company_city                    investor_permalink  \\\n",
       "0                  CHN        Beijing     /organization/dt-capital-partners   \n",
       "1                  USA      Champaign       /organization/venturecapital-de   \n",
       "2                  HKG      Hong Kong     /organization/cyberport-hong-kong   \n",
       "3                  USA  Mountain View             /organization/capital-one   \n",
       "4                  USA  Mountain View  /organization/nexus-venture-partners   \n",
       "\n",
       "            investor_name investor_country_code investor_city  \\\n",
       "0     DT Capital Partners                   CHN      Shanghai   \n",
       "1   VCDE Venture Partners                   DEU     Frankfurt   \n",
       "2     Cyberport Hong Kong                   HKG     Hong Kong   \n",
       "3             Capital One                   USA        Mclean   \n",
       "4  Nexus Venture Partners                   USA    Menlo Park   \n",
       "\n",
       "                           funding_round_permalink funding_round_type  \\\n",
       "0  /funding-round/5727accaeaa57461bd22a9bdd945382d            venture   \n",
       "1  /funding-round/1278dd4e6a37fa4b7d7e06c21b3c1830            venture   \n",
       "2  /funding-round/7d53696f2b4f607a2f2a8cbb83d01839        undisclosed   \n",
       "3  /funding-round/3bb2ee4a2d89251a10aaa735b1180e44            venture   \n",
       "4  /funding-round/383a9bd2c04f7038bb543ccef5ba3eae               seed   \n",
       "\n",
       "  funding_round_code   funded_at raised_amount_usd  \n",
       "0                  A  2008-03-19         2000000.0  \n",
       "1      not available  2014-07-24     not available  \n",
       "2      not available  2014-07-01           41250.0  \n",
       "3                  B  2015-11-09        20000000.0  \n",
       "4      not available  2013-05-22         3000000.0  "
      ]
     },
     "execution_count": 13,
     "metadata": {},
     "output_type": "execute_result"
    }
   ],
   "source": [
    "d.drop_duplicates(subset=['company_country_code'])\n",
    "d.drop_duplicates(subset=['investor_country_code'])\n",
    "d.head()"
   ]
  },
  {
   "cell_type": "markdown",
   "id": "241a9ddb",
   "metadata": {},
   "source": [
    "# How many investors do we have in different countries and which country dominates?"
   ]
  },
  {
   "cell_type": "code",
   "execution_count": 14,
   "id": "9d8d3638",
   "metadata": {},
   "outputs": [
    {
     "data": {
      "text/plain": [
       "USA             96341\n",
       "not provided    30939\n",
       "GBR              7616\n",
       "DEU              3256\n",
       "FRA              3007\n",
       "                ...  \n",
       "TTO                 1\n",
       "MAR                 1\n",
       "IRN                 1\n",
       "BAH                 1\n",
       "GIB                 1\n",
       "Name: investor_country_code, Length: 99, dtype: int64"
      ]
     },
     "execution_count": 14,
     "metadata": {},
     "output_type": "execute_result"
    }
   ],
   "source": [
    "d.investor_country_code.value_counts()"
   ]
  },
  {
   "cell_type": "code",
   "execution_count": 15,
   "id": "84199eb1",
   "metadata": {
    "scrolled": true
   },
   "outputs": [
    {
     "data": {
      "text/plain": [
       "USA             112283\n",
       "not provided     10521\n",
       "GBR               8579\n",
       "CAN               4009\n",
       "CHN               3778\n",
       "                 ...  \n",
       "NPL                  1\n",
       "MDA                  1\n",
       "ALB                  1\n",
       "GGY                  1\n",
       "MCO                  1\n",
       "Name: company_country_code, Length: 126, dtype: int64"
      ]
     },
     "execution_count": 15,
     "metadata": {},
     "output_type": "execute_result"
    }
   ],
   "source": [
    "d.company_country_code.value_counts()"
   ]
  },
  {
   "cell_type": "markdown",
   "id": "8e757e56",
   "metadata": {},
   "source": [
    "The above data shows that we have more investors in the USA and companies receiving investments as compared to othe countries.\n"
   ]
  },
  {
   "cell_type": "markdown",
   "id": "8ec26a95",
   "metadata": {},
   "source": [
    "# Which investor dominates the market?"
   ]
  },
  {
   "cell_type": "code",
   "execution_count": 16,
   "id": "2e58e17b",
   "metadata": {},
   "outputs": [
    {
     "data": {
      "text/plain": [
       "Sequoia Capital               1033\n",
       "Wayra                          936\n",
       "500 Startups                   932\n",
       "New Enterprise Associates      902\n",
       "Intel Capital                  861\n",
       "                              ... \n",
       "Shazad Mohammed                  1\n",
       "Rick Gibson                      1\n",
       "Smurfit Family Investments       1\n",
       "Naren Nachiappan                 1\n",
       "Serkan Erdoğan                   1\n",
       "Name: investor_name, Length: 30189, dtype: int64"
      ]
     },
     "execution_count": 16,
     "metadata": {},
     "output_type": "execute_result"
    }
   ],
   "source": [
    "d['investor_name'].value_counts()"
   ]
  },
  {
   "cell_type": "markdown",
   "id": "2c977050",
   "metadata": {},
   "source": [
    "As we can see, Sequoia Capital dominates the market. Wayra and 500 Startups seem to be quit close in count from which we could deduce that they are competitors just like the rest of the companies in the list but the fact that their count have a 4 point gap could mean that they follow up on one another."
   ]
  },
  {
   "cell_type": "markdown",
   "id": "3b7d37c8",
   "metadata": {},
   "source": [
    "# Which company is most famous amongst investors?"
   ]
  },
  {
   "cell_type": "code",
   "execution_count": 17,
   "id": "73e82e3c",
   "metadata": {
    "scrolled": false
   },
   "outputs": [
    {
     "data": {
      "text/plain": [
       "Uber                                          64\n",
       "DocuSign                                      61\n",
       "Fab                                           61\n",
       "Pinterest                                     60\n",
       "Mattermark                                    59\n",
       "                                              ..\n",
       "Kirondo                                        1\n",
       "Kiras Kiss                                     1\n",
       "Kipu Systems                                   1\n",
       "Kippt                                          1\n",
       "İnovatiff Reklam ve Tanıtım Hizmetleri Tic     1\n",
       "Name: company_name, Length: 44578, dtype: int64"
      ]
     },
     "execution_count": 17,
     "metadata": {},
     "output_type": "execute_result"
    }
   ],
   "source": [
    "d['company_name'].value_counts()"
   ]
  },
  {
   "cell_type": "markdown",
   "id": "b93780c8",
   "metadata": {},
   "source": [
    "The above data shows that the Uber company dominates the market with DocuSign and Fab having the same count which may infere that one is as trust worth as the other. The fact Uber is at the top of the list also tells us that this company has a lot of credibility in the eyes of investors. "
   ]
  },
  {
   "cell_type": "markdown",
   "id": "6eec51cc",
   "metadata": {},
   "source": [
    "# What about these company's specialization as compared to investment?Which category (field) attracts more funding? "
   ]
  },
  {
   "cell_type": "markdown",
   "id": "74d8ad1f",
   "metadata": {},
   "source": [
    " We will check for both companies and investments dataframes."
   ]
  },
  {
   "cell_type": "code",
   "execution_count": 18,
   "id": "50750634",
   "metadata": {
    "scrolled": false
   },
   "outputs": [
    {
     "data": {
      "text/plain": [
       "Software                                                                       3995\n",
       "Biotechnology                                                                  3615\n",
       "E-Commerce                                                                     1332\n",
       "Mobile                                                                         1177\n",
       "Clean Technology                                                               1133\n",
       "                                                                               ... \n",
       "Consumer Internet|Marketplaces|Mobile|Mobile Payments|Transportation|Travel       1\n",
       "Apps|Mobile|Private Social Networking                                             1\n",
       "Cloud Computing|Enterprise Software|Infrastructure|PaaS|Social Media              1\n",
       "Content|SaaS|Social Media Marketing|Software                                      1\n",
       "Consumer Goods|E-Commerce|Internet                                                1\n",
       "Name: category_list, Length: 27296, dtype: int64"
      ]
     },
     "execution_count": 18,
     "metadata": {},
     "output_type": "execute_result"
    }
   ],
   "source": [
    "#companies\n",
    "df = df[df.category_list!= 'NaN']\n",
    "df.category_list.value_counts()"
   ]
  },
  {
   "cell_type": "code",
   "execution_count": 19,
   "id": "9a2698c1",
   "metadata": {},
   "outputs": [
    {
     "data": {
      "text/plain": [
       "Biotechnology                                               10041\n",
       "Software                                                     8931\n",
       "Mobile                                                       3178\n",
       "Enterprise Software                                          3002\n",
       "E-Commerce                                                   2980\n",
       "                                                            ...  \n",
       "Curated Web|E-Commerce|Online Reservations|Online Travel        1\n",
       "Hedge Funds|Market Research|Trading                             1\n",
       "Curated Web|Home & Garden                                       1\n",
       "E-Commerce|Furniture|Home & Garden|Lighting                     1\n",
       "Consumer Goods|E-Commerce|Internet                              1\n",
       "Name: company_category_list, Length: 19453, dtype: int64"
      ]
     },
     "execution_count": 19,
     "metadata": {},
     "output_type": "execute_result"
    }
   ],
   "source": [
    "#investments\n",
    "d = d[d.company_category_list!= 'NaN']\n",
    "d.company_category_list.value_counts()"
   ]
  },
  {
   "cell_type": "markdown",
   "id": "4ea0a5b5",
   "metadata": {},
   "source": [
    "# Are most of the investors also acquirers?"
   ]
  },
  {
   "cell_type": "code",
   "execution_count": 20,
   "id": "e8620111",
   "metadata": {},
   "outputs": [
    {
     "data": {
      "text/html": [
       "<div>\n",
       "<style scoped>\n",
       "    .dataframe tbody tr th:only-of-type {\n",
       "        vertical-align: middle;\n",
       "    }\n",
       "\n",
       "    .dataframe tbody tr th {\n",
       "        vertical-align: top;\n",
       "    }\n",
       "\n",
       "    .dataframe thead th {\n",
       "        text-align: right;\n",
       "    }\n",
       "</style>\n",
       "<table border=\"1\" class=\"dataframe\">\n",
       "  <thead>\n",
       "    <tr style=\"text-align: right;\">\n",
       "      <th></th>\n",
       "      <th>company_permalink</th>\n",
       "      <th>company_name</th>\n",
       "      <th>company_category_list</th>\n",
       "      <th>company_country_code</th>\n",
       "      <th>company_state_code</th>\n",
       "      <th>company_region</th>\n",
       "      <th>company_city</th>\n",
       "      <th>acquirer_permalink</th>\n",
       "      <th>acquirer_name</th>\n",
       "      <th>acquirer_category_list</th>\n",
       "      <th>acquirer_country_code</th>\n",
       "      <th>acquirer_state_code</th>\n",
       "      <th>acquirer_region</th>\n",
       "      <th>acquirer_city</th>\n",
       "      <th>acquired_at</th>\n",
       "      <th>acquired_month</th>\n",
       "      <th>price_amount</th>\n",
       "      <th>price_currency_code</th>\n",
       "    </tr>\n",
       "  </thead>\n",
       "  <tbody>\n",
       "    <tr>\n",
       "      <th>0</th>\n",
       "      <td>/organization/003-ru</td>\n",
       "      <td>003.RU</td>\n",
       "      <td>Consumer Electronics|Electronics|Internet</td>\n",
       "      <td>RUS</td>\n",
       "      <td>48</td>\n",
       "      <td>Moscow</td>\n",
       "      <td>Moscow</td>\n",
       "      <td>/organization/media-saturn</td>\n",
       "      <td>Media Saturn</td>\n",
       "      <td>Enterprise Software|Media|Sales and Marketing</td>\n",
       "      <td>ESP</td>\n",
       "      <td>56</td>\n",
       "      <td>Barcelona</td>\n",
       "      <td>Barcelona</td>\n",
       "      <td>2012-07-23</td>\n",
       "      <td>2012-07</td>\n",
       "      <td>NaN</td>\n",
       "      <td>USD</td>\n",
       "    </tr>\n",
       "    <tr>\n",
       "      <th>1</th>\n",
       "      <td>/organization/0958572-b-c-ltd</td>\n",
       "      <td>0958572 B.C. Ltd.</td>\n",
       "      <td>NaN</td>\n",
       "      <td>NaN</td>\n",
       "      <td>NaN</td>\n",
       "      <td>NaN</td>\n",
       "      <td>NaN</td>\n",
       "      <td>/organization/atlas-intellectual-property-mana...</td>\n",
       "      <td>ATLAS Intellectual Property Management Co.</td>\n",
       "      <td>Finance|FinTech|Mobile|Telecommunications</td>\n",
       "      <td>USA</td>\n",
       "      <td>WA</td>\n",
       "      <td>Seattle</td>\n",
       "      <td>Seattle</td>\n",
       "      <td>2012-02-02</td>\n",
       "      <td>2012-02</td>\n",
       "      <td>9000000.0</td>\n",
       "      <td>USD</td>\n",
       "    </tr>\n",
       "    <tr>\n",
       "      <th>2</th>\n",
       "      <td>/organization/1-800-communications</td>\n",
       "      <td>1-800 Communications</td>\n",
       "      <td>NaN</td>\n",
       "      <td>USA</td>\n",
       "      <td>NY</td>\n",
       "      <td>Long Island</td>\n",
       "      <td>Hicksville</td>\n",
       "      <td>/organization/carsdirect-com</td>\n",
       "      <td>CarsDirect.com</td>\n",
       "      <td>E-Commerce</td>\n",
       "      <td>USA</td>\n",
       "      <td>CA</td>\n",
       "      <td>Los Angeles</td>\n",
       "      <td>El Segundo</td>\n",
       "      <td>2005-06-12</td>\n",
       "      <td>2005-06</td>\n",
       "      <td>NaN</td>\n",
       "      <td>USD</td>\n",
       "    </tr>\n",
       "    <tr>\n",
       "      <th>3</th>\n",
       "      <td>/organization/1-800-contacts</td>\n",
       "      <td>1-800 Contacts</td>\n",
       "      <td>Consumer Goods|Retail</td>\n",
       "      <td>USA</td>\n",
       "      <td>UT</td>\n",
       "      <td>Salt Lake City</td>\n",
       "      <td>Draper</td>\n",
       "      <td>/organization/thomas-h-lee-partners</td>\n",
       "      <td>Thomas H. Lee Partners</td>\n",
       "      <td>Business Development|Impact Investing|Investme...</td>\n",
       "      <td>USA</td>\n",
       "      <td>MA</td>\n",
       "      <td>Boston</td>\n",
       "      <td>Boston</td>\n",
       "      <td>2014-01-07</td>\n",
       "      <td>2014-01</td>\n",
       "      <td>NaN</td>\n",
       "      <td>USD</td>\n",
       "    </tr>\n",
       "    <tr>\n",
       "      <th>4</th>\n",
       "      <td>/organization/1-844-446-4460-pogo-customer-ser...</td>\n",
       "      <td>Games Support +1-800-311-5934 Pogo Games techn...</td>\n",
       "      <td>NaN</td>\n",
       "      <td>NaN</td>\n",
       "      <td>NaN</td>\n",
       "      <td>NaN</td>\n",
       "      <td>NaN</td>\n",
       "      <td>/organization/pogo-customer-service-number-1-8...</td>\n",
       "      <td>Games Support +1-800-311-5934 Pogo Games techn...</td>\n",
       "      <td>NaN</td>\n",
       "      <td>USA</td>\n",
       "      <td>NY</td>\n",
       "      <td>New York City</td>\n",
       "      <td>Mamaroneck</td>\n",
       "      <td>2001-02-02</td>\n",
       "      <td>2001-02</td>\n",
       "      <td>NaN</td>\n",
       "      <td>USD</td>\n",
       "    </tr>\n",
       "  </tbody>\n",
       "</table>\n",
       "</div>"
      ],
      "text/plain": [
       "                                   company_permalink  \\\n",
       "0                               /organization/003-ru   \n",
       "1                      /organization/0958572-b-c-ltd   \n",
       "2                 /organization/1-800-communications   \n",
       "3                       /organization/1-800-contacts   \n",
       "4  /organization/1-844-446-4460-pogo-customer-ser...   \n",
       "\n",
       "                                        company_name  \\\n",
       "0                                             003.RU   \n",
       "1                                  0958572 B.C. Ltd.   \n",
       "2                               1-800 Communications   \n",
       "3                                     1-800 Contacts   \n",
       "4  Games Support +1-800-311-5934 Pogo Games techn...   \n",
       "\n",
       "                       company_category_list company_country_code  \\\n",
       "0  Consumer Electronics|Electronics|Internet                  RUS   \n",
       "1                                        NaN                  NaN   \n",
       "2                                        NaN                  USA   \n",
       "3                      Consumer Goods|Retail                  USA   \n",
       "4                                        NaN                  NaN   \n",
       "\n",
       "  company_state_code  company_region company_city  \\\n",
       "0                 48          Moscow       Moscow   \n",
       "1                NaN             NaN          NaN   \n",
       "2                 NY     Long Island   Hicksville   \n",
       "3                 UT  Salt Lake City       Draper   \n",
       "4                NaN             NaN          NaN   \n",
       "\n",
       "                                  acquirer_permalink  \\\n",
       "0                         /organization/media-saturn   \n",
       "1  /organization/atlas-intellectual-property-mana...   \n",
       "2                       /organization/carsdirect-com   \n",
       "3                /organization/thomas-h-lee-partners   \n",
       "4  /organization/pogo-customer-service-number-1-8...   \n",
       "\n",
       "                                       acquirer_name  \\\n",
       "0                                       Media Saturn   \n",
       "1         ATLAS Intellectual Property Management Co.   \n",
       "2                                     CarsDirect.com   \n",
       "3                             Thomas H. Lee Partners   \n",
       "4  Games Support +1-800-311-5934 Pogo Games techn...   \n",
       "\n",
       "                              acquirer_category_list acquirer_country_code  \\\n",
       "0      Enterprise Software|Media|Sales and Marketing                   ESP   \n",
       "1          Finance|FinTech|Mobile|Telecommunications                   USA   \n",
       "2                                         E-Commerce                   USA   \n",
       "3  Business Development|Impact Investing|Investme...                   USA   \n",
       "4                                                NaN                   USA   \n",
       "\n",
       "  acquirer_state_code acquirer_region acquirer_city acquired_at  \\\n",
       "0                  56       Barcelona     Barcelona  2012-07-23   \n",
       "1                  WA         Seattle       Seattle  2012-02-02   \n",
       "2                  CA     Los Angeles    El Segundo  2005-06-12   \n",
       "3                  MA          Boston        Boston  2014-01-07   \n",
       "4                  NY   New York City    Mamaroneck  2001-02-02   \n",
       "\n",
       "  acquired_month  price_amount price_currency_code  \n",
       "0        2012-07           NaN                 USD  \n",
       "1        2012-02     9000000.0                 USD  \n",
       "2        2005-06           NaN                 USD  \n",
       "3        2014-01           NaN                 USD  \n",
       "4        2001-02           NaN                 USD  "
      ]
     },
     "execution_count": 20,
     "metadata": {},
     "output_type": "execute_result"
    }
   ],
   "source": [
    "p=pd.read_csv(\"acquisitions.csv\")\n",
    "p.head()"
   ]
  },
  {
   "cell_type": "code",
   "execution_count": 21,
   "id": "b5f5e96e",
   "metadata": {},
   "outputs": [
    {
     "data": {
      "text/html": [
       "<div>\n",
       "<style scoped>\n",
       "    .dataframe tbody tr th:only-of-type {\n",
       "        vertical-align: middle;\n",
       "    }\n",
       "\n",
       "    .dataframe tbody tr th {\n",
       "        vertical-align: top;\n",
       "    }\n",
       "\n",
       "    .dataframe thead th {\n",
       "        text-align: right;\n",
       "    }\n",
       "</style>\n",
       "<table border=\"1\" class=\"dataframe\">\n",
       "  <thead>\n",
       "    <tr style=\"text-align: right;\">\n",
       "      <th></th>\n",
       "      <th>company_permalink</th>\n",
       "      <th>company_name</th>\n",
       "      <th>company_category_list</th>\n",
       "      <th>company_country_code</th>\n",
       "      <th>company_city</th>\n",
       "      <th>acquirer_permalink</th>\n",
       "      <th>acquirer_name</th>\n",
       "      <th>acquirer_category_list</th>\n",
       "      <th>acquirer_country_code</th>\n",
       "      <th>acquirer_city</th>\n",
       "      <th>acquired_at</th>\n",
       "      <th>acquired_month</th>\n",
       "      <th>price_amount</th>\n",
       "      <th>price_currency_code</th>\n",
       "    </tr>\n",
       "  </thead>\n",
       "  <tbody>\n",
       "    <tr>\n",
       "      <th>0</th>\n",
       "      <td>/organization/003-ru</td>\n",
       "      <td>003.RU</td>\n",
       "      <td>Consumer Electronics|Electronics|Internet</td>\n",
       "      <td>RUS</td>\n",
       "      <td>Moscow</td>\n",
       "      <td>/organization/media-saturn</td>\n",
       "      <td>Media Saturn</td>\n",
       "      <td>Enterprise Software|Media|Sales and Marketing</td>\n",
       "      <td>ESP</td>\n",
       "      <td>Barcelona</td>\n",
       "      <td>2012-07-23</td>\n",
       "      <td>2012-07</td>\n",
       "      <td>NaN</td>\n",
       "      <td>USD</td>\n",
       "    </tr>\n",
       "    <tr>\n",
       "      <th>1</th>\n",
       "      <td>/organization/0958572-b-c-ltd</td>\n",
       "      <td>0958572 B.C. Ltd.</td>\n",
       "      <td>not provided</td>\n",
       "      <td>not provided</td>\n",
       "      <td>NaN</td>\n",
       "      <td>/organization/atlas-intellectual-property-mana...</td>\n",
       "      <td>ATLAS Intellectual Property Management Co.</td>\n",
       "      <td>Finance|FinTech|Mobile|Telecommunications</td>\n",
       "      <td>USA</td>\n",
       "      <td>Seattle</td>\n",
       "      <td>2012-02-02</td>\n",
       "      <td>2012-02</td>\n",
       "      <td>9000000.0</td>\n",
       "      <td>USD</td>\n",
       "    </tr>\n",
       "    <tr>\n",
       "      <th>2</th>\n",
       "      <td>/organization/1-800-communications</td>\n",
       "      <td>1-800 Communications</td>\n",
       "      <td>not provided</td>\n",
       "      <td>USA</td>\n",
       "      <td>Hicksville</td>\n",
       "      <td>/organization/carsdirect-com</td>\n",
       "      <td>CarsDirect.com</td>\n",
       "      <td>E-Commerce</td>\n",
       "      <td>USA</td>\n",
       "      <td>El Segundo</td>\n",
       "      <td>2005-06-12</td>\n",
       "      <td>2005-06</td>\n",
       "      <td>NaN</td>\n",
       "      <td>USD</td>\n",
       "    </tr>\n",
       "    <tr>\n",
       "      <th>3</th>\n",
       "      <td>/organization/1-800-contacts</td>\n",
       "      <td>1-800 Contacts</td>\n",
       "      <td>Consumer Goods|Retail</td>\n",
       "      <td>USA</td>\n",
       "      <td>Draper</td>\n",
       "      <td>/organization/thomas-h-lee-partners</td>\n",
       "      <td>Thomas H. Lee Partners</td>\n",
       "      <td>Business Development|Impact Investing|Investme...</td>\n",
       "      <td>USA</td>\n",
       "      <td>Boston</td>\n",
       "      <td>2014-01-07</td>\n",
       "      <td>2014-01</td>\n",
       "      <td>NaN</td>\n",
       "      <td>USD</td>\n",
       "    </tr>\n",
       "    <tr>\n",
       "      <th>4</th>\n",
       "      <td>/organization/1-844-446-4460-pogo-customer-ser...</td>\n",
       "      <td>Games Support +1-800-311-5934 Pogo Games techn...</td>\n",
       "      <td>not provided</td>\n",
       "      <td>not provided</td>\n",
       "      <td>NaN</td>\n",
       "      <td>/organization/pogo-customer-service-number-1-8...</td>\n",
       "      <td>Games Support +1-800-311-5934 Pogo Games techn...</td>\n",
       "      <td>NaN</td>\n",
       "      <td>USA</td>\n",
       "      <td>Mamaroneck</td>\n",
       "      <td>2001-02-02</td>\n",
       "      <td>2001-02</td>\n",
       "      <td>NaN</td>\n",
       "      <td>USD</td>\n",
       "    </tr>\n",
       "  </tbody>\n",
       "</table>\n",
       "</div>"
      ],
      "text/plain": [
       "                                   company_permalink  \\\n",
       "0                               /organization/003-ru   \n",
       "1                      /organization/0958572-b-c-ltd   \n",
       "2                 /organization/1-800-communications   \n",
       "3                       /organization/1-800-contacts   \n",
       "4  /organization/1-844-446-4460-pogo-customer-ser...   \n",
       "\n",
       "                                        company_name  \\\n",
       "0                                             003.RU   \n",
       "1                                  0958572 B.C. Ltd.   \n",
       "2                               1-800 Communications   \n",
       "3                                     1-800 Contacts   \n",
       "4  Games Support +1-800-311-5934 Pogo Games techn...   \n",
       "\n",
       "                       company_category_list company_country_code  \\\n",
       "0  Consumer Electronics|Electronics|Internet                  RUS   \n",
       "1                               not provided         not provided   \n",
       "2                               not provided                  USA   \n",
       "3                      Consumer Goods|Retail                  USA   \n",
       "4                               not provided         not provided   \n",
       "\n",
       "  company_city                                 acquirer_permalink  \\\n",
       "0       Moscow                         /organization/media-saturn   \n",
       "1          NaN  /organization/atlas-intellectual-property-mana...   \n",
       "2   Hicksville                       /organization/carsdirect-com   \n",
       "3       Draper                /organization/thomas-h-lee-partners   \n",
       "4          NaN  /organization/pogo-customer-service-number-1-8...   \n",
       "\n",
       "                                       acquirer_name  \\\n",
       "0                                       Media Saturn   \n",
       "1         ATLAS Intellectual Property Management Co.   \n",
       "2                                     CarsDirect.com   \n",
       "3                             Thomas H. Lee Partners   \n",
       "4  Games Support +1-800-311-5934 Pogo Games techn...   \n",
       "\n",
       "                              acquirer_category_list acquirer_country_code  \\\n",
       "0      Enterprise Software|Media|Sales and Marketing                   ESP   \n",
       "1          Finance|FinTech|Mobile|Telecommunications                   USA   \n",
       "2                                         E-Commerce                   USA   \n",
       "3  Business Development|Impact Investing|Investme...                   USA   \n",
       "4                                                NaN                   USA   \n",
       "\n",
       "  acquirer_city acquired_at acquired_month  price_amount price_currency_code  \n",
       "0     Barcelona  2012-07-23        2012-07           NaN                 USD  \n",
       "1       Seattle  2012-02-02        2012-02     9000000.0                 USD  \n",
       "2    El Segundo  2005-06-12        2005-06           NaN                 USD  \n",
       "3        Boston  2014-01-07        2014-01           NaN                 USD  \n",
       "4    Mamaroneck  2001-02-02        2001-02           NaN                 USD  "
      ]
     },
     "execution_count": 21,
     "metadata": {},
     "output_type": "execute_result"
    }
   ],
   "source": [
    "p.drop(['company_state_code', 'company_region','acquirer_state_code','acquirer_region'],axis=1,inplace=True)\n",
    "p['company_category_list']=p['company_category_list'].fillna(\"not provided\")\n",
    "p['company_country_code']=p['company_country_code'].fillna(\"not provided\")\n",
    "\n",
    "\n",
    "p.head()"
   ]
  },
  {
   "cell_type": "code",
   "execution_count": 22,
   "id": "10c04f70",
   "metadata": {
    "scrolled": true
   },
   "outputs": [
    {
     "data": {
      "text/plain": [
       "Cisco                                    193\n",
       "Google                                   176\n",
       "Microsoft                                161\n",
       "IBM (International Business Machines)    138\n",
       "Yahoo!                                   118\n",
       "                                        ... \n",
       "Prime Active Capital                       1\n",
       "Wilcon                                     1\n",
       "Eco Green Auto Clean                       1\n",
       "Iotum                                      1\n",
       "2000                                       1\n",
       "Name: acquirer_name, Length: 9475, dtype: int64"
      ]
     },
     "execution_count": 22,
     "metadata": {},
     "output_type": "execute_result"
    }
   ],
   "source": [
    "p.acquirer_name.value_counts()"
   ]
  },
  {
   "cell_type": "code",
   "execution_count": 23,
   "id": "cd8725be",
   "metadata": {},
   "outputs": [
    {
     "data": {
      "text/plain": [
       "Unveil Technologies              6\n",
       "Ufree                            6\n",
       "California Apostille Services    5\n",
       "Travel Channel                   4\n",
       "Ziff Davis                       4\n",
       "                                ..\n",
       "Focal Labs                       1\n",
       "Focus                            1\n",
       "Focus Group                      1\n",
       "Focus Systems                    1\n",
       "USA                              1\n",
       "Name: company_name, Length: 18503, dtype: int64"
      ]
     },
     "execution_count": 23,
     "metadata": {},
     "output_type": "execute_result"
    }
   ],
   "source": [
    "p.company_name.value_counts()"
   ]
  },
  {
   "cell_type": "markdown",
   "id": "06a7b52b",
   "metadata": {},
   "source": [
    "Shockingly, the first to top the list is Cisco unlike in the investor data set where Sequoia Capital tops the list. Also, it can be noticed that the companies which have had the most share acquisitions are Unveil Technologies and Ufree."
   ]
  },
  {
   "cell_type": "markdown",
   "id": "bb977218",
   "metadata": {},
   "source": [
    "# What can some of the null or missing values infer?"
   ]
  },
  {
   "cell_type": "code",
   "execution_count": 24,
   "id": "126a144e",
   "metadata": {},
   "outputs": [
    {
     "data": {
      "text/plain": [
       "company_permalink             0\n",
       "company_name                  0\n",
       "company_category_list         0\n",
       "company_country_code          0\n",
       "company_city               4910\n",
       "acquirer_permalink            0\n",
       "acquirer_name                 0\n",
       "acquirer_category_list     2388\n",
       "acquirer_country_code      1170\n",
       "acquirer_city              1359\n",
       "acquired_at                  12\n",
       "acquired_month               14\n",
       "price_amount              13956\n",
       "price_currency_code           6\n",
       "dtype: int64"
      ]
     },
     "execution_count": 24,
     "metadata": {},
     "output_type": "execute_result"
    }
   ],
   "source": [
    "p.isna().sum()"
   ]
  },
  {
   "cell_type": "markdown",
   "id": "da959d10",
   "metadata": {},
   "source": [
    "* The null values in the price_amount column may mean that the acquisition process have not being completed, was cancelled, or the files containing this information are not available.\n",
    "\n",
    "* Null in company_city may point out that either the location of the company is unexact or that the acquisition process was cancelled. The reverse may be true in case with the acquirer_city."
   ]
  }
 ],
 "metadata": {
  "kernelspec": {
   "display_name": "Python 3 (ipykernel)",
   "language": "python",
   "name": "python3"
  },
  "language_info": {
   "codemirror_mode": {
    "name": "ipython",
    "version": 3
   },
   "file_extension": ".py",
   "mimetype": "text/x-python",
   "name": "python",
   "nbconvert_exporter": "python",
   "pygments_lexer": "ipython3",
   "version": "3.9.7"
  }
 },
 "nbformat": 4,
 "nbformat_minor": 5
}
